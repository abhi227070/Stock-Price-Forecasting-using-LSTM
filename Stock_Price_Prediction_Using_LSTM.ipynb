{
  "nbformat": 4,
  "nbformat_minor": 0,
  "metadata": {
    "colab": {
      "provenance": []
    },
    "kernelspec": {
      "name": "python3",
      "display_name": "Python 3"
    },
    "language_info": {
      "name": "python"
    }
  },
  "cells": [
    {
      "cell_type": "code",
      "execution_count": 6,
      "metadata": {
        "colab": {
          "base_uri": "https://localhost:8080/"
        },
        "id": "_RAT96XSmZyt",
        "outputId": "a56f17fb-dfcc-4750-e3ce-5c8a6e56781f"
      },
      "outputs": [
        {
          "output_type": "stream",
          "name": "stderr",
          "text": [
            "<ipython-input-6-c419cee1021f>:3: FutureWarning: In a future version of pandas all arguments of concat except for the argument 'objs' will be keyword-only.\n",
            "  df = pdr.get_data_tiingo('GOOGL',api_key = '1fb09ab6945c3ec3a50df8c02d5b65ecf8ce5975')\n"
          ]
        }
      ],
      "source": [
        "## Importing the data from tiingo using pandas datareader\n",
        "import pandas_datareader as pdr\n",
        "\n",
        "df = pdr.get_data_tiingo('GOOGL',api_key = '1fb09ab6945c3ec3a50df8c02d5b65ecf8ce5975')\n"
      ]
    },
    {
      "cell_type": "code",
      "source": [
        "## Converting the data into CSV file\n",
        "df.to_csv('COUR.csv')"
      ],
      "metadata": {
        "id": "D7gUUiG3pJ4R"
      },
      "execution_count": 7,
      "outputs": []
    },
    {
      "cell_type": "code",
      "source": [
        "# Importing pandas and dataframe\n",
        "import pandas as pd\n",
        "\n",
        "df = pd.read_csv('COUR.csv')"
      ],
      "metadata": {
        "id": "uRWyX8a-pTiM"
      },
      "execution_count": 8,
      "outputs": []
    },
    {
      "cell_type": "code",
      "source": [
        "df.shape"
      ],
      "metadata": {
        "colab": {
          "base_uri": "https://localhost:8080/"
        },
        "id": "knFNeI3-pcUr",
        "outputId": "fb935c14-576d-4d0e-ec80-8d91b683156d"
      },
      "execution_count": 11,
      "outputs": [
        {
          "output_type": "execute_result",
          "data": {
            "text/plain": [
              "(1257, 14)"
            ]
          },
          "metadata": {},
          "execution_count": 11
        }
      ]
    },
    {
      "cell_type": "code",
      "source": [
        "df.tail()"
      ],
      "metadata": {
        "colab": {
          "base_uri": "https://localhost:8080/",
          "height": 206
        },
        "id": "xtrWupyMpdjf",
        "outputId": "9dd27cee-4c82-44b1-dcc7-303e94934474"
      },
      "execution_count": 49,
      "outputs": [
        {
          "output_type": "execute_result",
          "data": {
            "text/plain": [
              "     symbol                       date   close      high      low    open  \\\n",
              "1252  GOOGL  2023-09-11 00:00:00+00:00  136.92  137.4800  135.785  136.54   \n",
              "1253  GOOGL  2023-09-12 00:00:00+00:00  135.34  136.8701  135.190  136.26   \n",
              "1254  GOOGL  2023-09-13 00:00:00+00:00  136.71  136.9000  134.150  135.09   \n",
              "1255  GOOGL  2023-09-14 00:00:00+00:00  138.10  138.6950  136.240  137.60   \n",
              "1256  GOOGL  2023-09-15 00:00:00+00:00  137.40  138.5200  136.480  137.98   \n",
              "\n",
              "        volume  adjClose   adjHigh   adjLow  adjOpen  adjVolume  divCash  \\\n",
              "1252  20763350    136.92  137.4800  135.785   136.54   20763350      0.0   \n",
              "1253  18405505    135.34  136.8701  135.190   136.26   18405505      0.0   \n",
              "1254  20749496    136.71  136.9000  134.150   135.09   20749496      0.0   \n",
              "1255  24750968    138.10  138.6950  136.240   137.60   24750968      0.0   \n",
              "1256  38919614    137.40  138.5200  136.480   137.98   38919614      0.0   \n",
              "\n",
              "      splitFactor  \n",
              "1252          1.0  \n",
              "1253          1.0  \n",
              "1254          1.0  \n",
              "1255          1.0  \n",
              "1256          1.0  "
            ],
            "text/html": [
              "\n",
              "  <div id=\"df-d1611249-b9bb-47c8-8d75-79fa4562f8a9\" class=\"colab-df-container\">\n",
              "    <div>\n",
              "<style scoped>\n",
              "    .dataframe tbody tr th:only-of-type {\n",
              "        vertical-align: middle;\n",
              "    }\n",
              "\n",
              "    .dataframe tbody tr th {\n",
              "        vertical-align: top;\n",
              "    }\n",
              "\n",
              "    .dataframe thead th {\n",
              "        text-align: right;\n",
              "    }\n",
              "</style>\n",
              "<table border=\"1\" class=\"dataframe\">\n",
              "  <thead>\n",
              "    <tr style=\"text-align: right;\">\n",
              "      <th></th>\n",
              "      <th>symbol</th>\n",
              "      <th>date</th>\n",
              "      <th>close</th>\n",
              "      <th>high</th>\n",
              "      <th>low</th>\n",
              "      <th>open</th>\n",
              "      <th>volume</th>\n",
              "      <th>adjClose</th>\n",
              "      <th>adjHigh</th>\n",
              "      <th>adjLow</th>\n",
              "      <th>adjOpen</th>\n",
              "      <th>adjVolume</th>\n",
              "      <th>divCash</th>\n",
              "      <th>splitFactor</th>\n",
              "    </tr>\n",
              "  </thead>\n",
              "  <tbody>\n",
              "    <tr>\n",
              "      <th>1252</th>\n",
              "      <td>GOOGL</td>\n",
              "      <td>2023-09-11 00:00:00+00:00</td>\n",
              "      <td>136.92</td>\n",
              "      <td>137.4800</td>\n",
              "      <td>135.785</td>\n",
              "      <td>136.54</td>\n",
              "      <td>20763350</td>\n",
              "      <td>136.92</td>\n",
              "      <td>137.4800</td>\n",
              "      <td>135.785</td>\n",
              "      <td>136.54</td>\n",
              "      <td>20763350</td>\n",
              "      <td>0.0</td>\n",
              "      <td>1.0</td>\n",
              "    </tr>\n",
              "    <tr>\n",
              "      <th>1253</th>\n",
              "      <td>GOOGL</td>\n",
              "      <td>2023-09-12 00:00:00+00:00</td>\n",
              "      <td>135.34</td>\n",
              "      <td>136.8701</td>\n",
              "      <td>135.190</td>\n",
              "      <td>136.26</td>\n",
              "      <td>18405505</td>\n",
              "      <td>135.34</td>\n",
              "      <td>136.8701</td>\n",
              "      <td>135.190</td>\n",
              "      <td>136.26</td>\n",
              "      <td>18405505</td>\n",
              "      <td>0.0</td>\n",
              "      <td>1.0</td>\n",
              "    </tr>\n",
              "    <tr>\n",
              "      <th>1254</th>\n",
              "      <td>GOOGL</td>\n",
              "      <td>2023-09-13 00:00:00+00:00</td>\n",
              "      <td>136.71</td>\n",
              "      <td>136.9000</td>\n",
              "      <td>134.150</td>\n",
              "      <td>135.09</td>\n",
              "      <td>20749496</td>\n",
              "      <td>136.71</td>\n",
              "      <td>136.9000</td>\n",
              "      <td>134.150</td>\n",
              "      <td>135.09</td>\n",
              "      <td>20749496</td>\n",
              "      <td>0.0</td>\n",
              "      <td>1.0</td>\n",
              "    </tr>\n",
              "    <tr>\n",
              "      <th>1255</th>\n",
              "      <td>GOOGL</td>\n",
              "      <td>2023-09-14 00:00:00+00:00</td>\n",
              "      <td>138.10</td>\n",
              "      <td>138.6950</td>\n",
              "      <td>136.240</td>\n",
              "      <td>137.60</td>\n",
              "      <td>24750968</td>\n",
              "      <td>138.10</td>\n",
              "      <td>138.6950</td>\n",
              "      <td>136.240</td>\n",
              "      <td>137.60</td>\n",
              "      <td>24750968</td>\n",
              "      <td>0.0</td>\n",
              "      <td>1.0</td>\n",
              "    </tr>\n",
              "    <tr>\n",
              "      <th>1256</th>\n",
              "      <td>GOOGL</td>\n",
              "      <td>2023-09-15 00:00:00+00:00</td>\n",
              "      <td>137.40</td>\n",
              "      <td>138.5200</td>\n",
              "      <td>136.480</td>\n",
              "      <td>137.98</td>\n",
              "      <td>38919614</td>\n",
              "      <td>137.40</td>\n",
              "      <td>138.5200</td>\n",
              "      <td>136.480</td>\n",
              "      <td>137.98</td>\n",
              "      <td>38919614</td>\n",
              "      <td>0.0</td>\n",
              "      <td>1.0</td>\n",
              "    </tr>\n",
              "  </tbody>\n",
              "</table>\n",
              "</div>\n",
              "    <div class=\"colab-df-buttons\">\n",
              "\n",
              "  <div class=\"colab-df-container\">\n",
              "    <button class=\"colab-df-convert\" onclick=\"convertToInteractive('df-d1611249-b9bb-47c8-8d75-79fa4562f8a9')\"\n",
              "            title=\"Convert this dataframe to an interactive table.\"\n",
              "            style=\"display:none;\">\n",
              "\n",
              "  <svg xmlns=\"http://www.w3.org/2000/svg\" height=\"24px\" viewBox=\"0 -960 960 960\">\n",
              "    <path d=\"M120-120v-720h720v720H120Zm60-500h600v-160H180v160Zm220 220h160v-160H400v160Zm0 220h160v-160H400v160ZM180-400h160v-160H180v160Zm440 0h160v-160H620v160ZM180-180h160v-160H180v160Zm440 0h160v-160H620v160Z\"/>\n",
              "  </svg>\n",
              "    </button>\n",
              "\n",
              "  <style>\n",
              "    .colab-df-container {\n",
              "      display:flex;\n",
              "      gap: 12px;\n",
              "    }\n",
              "\n",
              "    .colab-df-convert {\n",
              "      background-color: #E8F0FE;\n",
              "      border: none;\n",
              "      border-radius: 50%;\n",
              "      cursor: pointer;\n",
              "      display: none;\n",
              "      fill: #1967D2;\n",
              "      height: 32px;\n",
              "      padding: 0 0 0 0;\n",
              "      width: 32px;\n",
              "    }\n",
              "\n",
              "    .colab-df-convert:hover {\n",
              "      background-color: #E2EBFA;\n",
              "      box-shadow: 0px 1px 2px rgba(60, 64, 67, 0.3), 0px 1px 3px 1px rgba(60, 64, 67, 0.15);\n",
              "      fill: #174EA6;\n",
              "    }\n",
              "\n",
              "    .colab-df-buttons div {\n",
              "      margin-bottom: 4px;\n",
              "    }\n",
              "\n",
              "    [theme=dark] .colab-df-convert {\n",
              "      background-color: #3B4455;\n",
              "      fill: #D2E3FC;\n",
              "    }\n",
              "\n",
              "    [theme=dark] .colab-df-convert:hover {\n",
              "      background-color: #434B5C;\n",
              "      box-shadow: 0px 1px 3px 1px rgba(0, 0, 0, 0.15);\n",
              "      filter: drop-shadow(0px 1px 2px rgba(0, 0, 0, 0.3));\n",
              "      fill: #FFFFFF;\n",
              "    }\n",
              "  </style>\n",
              "\n",
              "    <script>\n",
              "      const buttonEl =\n",
              "        document.querySelector('#df-d1611249-b9bb-47c8-8d75-79fa4562f8a9 button.colab-df-convert');\n",
              "      buttonEl.style.display =\n",
              "        google.colab.kernel.accessAllowed ? 'block' : 'none';\n",
              "\n",
              "      async function convertToInteractive(key) {\n",
              "        const element = document.querySelector('#df-d1611249-b9bb-47c8-8d75-79fa4562f8a9');\n",
              "        const dataTable =\n",
              "          await google.colab.kernel.invokeFunction('convertToInteractive',\n",
              "                                                    [key], {});\n",
              "        if (!dataTable) return;\n",
              "\n",
              "        const docLinkHtml = 'Like what you see? Visit the ' +\n",
              "          '<a target=\"_blank\" href=https://colab.research.google.com/notebooks/data_table.ipynb>data table notebook</a>'\n",
              "          + ' to learn more about interactive tables.';\n",
              "        element.innerHTML = '';\n",
              "        dataTable['output_type'] = 'display_data';\n",
              "        await google.colab.output.renderOutput(dataTable, element);\n",
              "        const docLink = document.createElement('div');\n",
              "        docLink.innerHTML = docLinkHtml;\n",
              "        element.appendChild(docLink);\n",
              "      }\n",
              "    </script>\n",
              "  </div>\n",
              "\n",
              "\n",
              "<div id=\"df-f12b0164-600c-4e8b-a4bc-84ab499489c2\">\n",
              "  <button class=\"colab-df-quickchart\" onclick=\"quickchart('df-f12b0164-600c-4e8b-a4bc-84ab499489c2')\"\n",
              "            title=\"Suggest charts.\"\n",
              "            style=\"display:none;\">\n",
              "\n",
              "<svg xmlns=\"http://www.w3.org/2000/svg\" height=\"24px\"viewBox=\"0 0 24 24\"\n",
              "     width=\"24px\">\n",
              "    <g>\n",
              "        <path d=\"M19 3H5c-1.1 0-2 .9-2 2v14c0 1.1.9 2 2 2h14c1.1 0 2-.9 2-2V5c0-1.1-.9-2-2-2zM9 17H7v-7h2v7zm4 0h-2V7h2v10zm4 0h-2v-4h2v4z\"/>\n",
              "    </g>\n",
              "</svg>\n",
              "  </button>\n",
              "\n",
              "<style>\n",
              "  .colab-df-quickchart {\n",
              "      --bg-color: #E8F0FE;\n",
              "      --fill-color: #1967D2;\n",
              "      --hover-bg-color: #E2EBFA;\n",
              "      --hover-fill-color: #174EA6;\n",
              "      --disabled-fill-color: #AAA;\n",
              "      --disabled-bg-color: #DDD;\n",
              "  }\n",
              "\n",
              "  [theme=dark] .colab-df-quickchart {\n",
              "      --bg-color: #3B4455;\n",
              "      --fill-color: #D2E3FC;\n",
              "      --hover-bg-color: #434B5C;\n",
              "      --hover-fill-color: #FFFFFF;\n",
              "      --disabled-bg-color: #3B4455;\n",
              "      --disabled-fill-color: #666;\n",
              "  }\n",
              "\n",
              "  .colab-df-quickchart {\n",
              "    background-color: var(--bg-color);\n",
              "    border: none;\n",
              "    border-radius: 50%;\n",
              "    cursor: pointer;\n",
              "    display: none;\n",
              "    fill: var(--fill-color);\n",
              "    height: 32px;\n",
              "    padding: 0;\n",
              "    width: 32px;\n",
              "  }\n",
              "\n",
              "  .colab-df-quickchart:hover {\n",
              "    background-color: var(--hover-bg-color);\n",
              "    box-shadow: 0 1px 2px rgba(60, 64, 67, 0.3), 0 1px 3px 1px rgba(60, 64, 67, 0.15);\n",
              "    fill: var(--button-hover-fill-color);\n",
              "  }\n",
              "\n",
              "  .colab-df-quickchart-complete:disabled,\n",
              "  .colab-df-quickchart-complete:disabled:hover {\n",
              "    background-color: var(--disabled-bg-color);\n",
              "    fill: var(--disabled-fill-color);\n",
              "    box-shadow: none;\n",
              "  }\n",
              "\n",
              "  .colab-df-spinner {\n",
              "    border: 2px solid var(--fill-color);\n",
              "    border-color: transparent;\n",
              "    border-bottom-color: var(--fill-color);\n",
              "    animation:\n",
              "      spin 1s steps(1) infinite;\n",
              "  }\n",
              "\n",
              "  @keyframes spin {\n",
              "    0% {\n",
              "      border-color: transparent;\n",
              "      border-bottom-color: var(--fill-color);\n",
              "      border-left-color: var(--fill-color);\n",
              "    }\n",
              "    20% {\n",
              "      border-color: transparent;\n",
              "      border-left-color: var(--fill-color);\n",
              "      border-top-color: var(--fill-color);\n",
              "    }\n",
              "    30% {\n",
              "      border-color: transparent;\n",
              "      border-left-color: var(--fill-color);\n",
              "      border-top-color: var(--fill-color);\n",
              "      border-right-color: var(--fill-color);\n",
              "    }\n",
              "    40% {\n",
              "      border-color: transparent;\n",
              "      border-right-color: var(--fill-color);\n",
              "      border-top-color: var(--fill-color);\n",
              "    }\n",
              "    60% {\n",
              "      border-color: transparent;\n",
              "      border-right-color: var(--fill-color);\n",
              "    }\n",
              "    80% {\n",
              "      border-color: transparent;\n",
              "      border-right-color: var(--fill-color);\n",
              "      border-bottom-color: var(--fill-color);\n",
              "    }\n",
              "    90% {\n",
              "      border-color: transparent;\n",
              "      border-bottom-color: var(--fill-color);\n",
              "    }\n",
              "  }\n",
              "</style>\n",
              "\n",
              "  <script>\n",
              "    async function quickchart(key) {\n",
              "      const quickchartButtonEl =\n",
              "        document.querySelector('#' + key + ' button');\n",
              "      quickchartButtonEl.disabled = true;  // To prevent multiple clicks.\n",
              "      quickchartButtonEl.classList.add('colab-df-spinner');\n",
              "      try {\n",
              "        const charts = await google.colab.kernel.invokeFunction(\n",
              "            'suggestCharts', [key], {});\n",
              "      } catch (error) {\n",
              "        console.error('Error during call to suggestCharts:', error);\n",
              "      }\n",
              "      quickchartButtonEl.classList.remove('colab-df-spinner');\n",
              "      quickchartButtonEl.classList.add('colab-df-quickchart-complete');\n",
              "    }\n",
              "    (() => {\n",
              "      let quickchartButtonEl =\n",
              "        document.querySelector('#df-f12b0164-600c-4e8b-a4bc-84ab499489c2 button');\n",
              "      quickchartButtonEl.style.display =\n",
              "        google.colab.kernel.accessAllowed ? 'block' : 'none';\n",
              "    })();\n",
              "  </script>\n",
              "</div>\n",
              "    </div>\n",
              "  </div>\n"
            ]
          },
          "metadata": {},
          "execution_count": 49
        }
      ]
    },
    {
      "cell_type": "code",
      "source": [
        "new_df = df['close']"
      ],
      "metadata": {
        "id": "r4B81LeCqOKd"
      },
      "execution_count": 41,
      "outputs": []
    },
    {
      "cell_type": "code",
      "source": [
        "new_df.head()"
      ],
      "metadata": {
        "colab": {
          "base_uri": "https://localhost:8080/"
        },
        "id": "Cs2fvL8bqXKU",
        "outputId": "e9603025-4144-4744-bfa8-feca562fc059"
      },
      "execution_count": 42,
      "outputs": [
        {
          "output_type": "execute_result",
          "data": {
            "text/plain": [
              "0    1167.11\n",
              "1    1174.27\n",
              "2    1191.57\n",
              "3    1172.12\n",
              "4    1179.56\n",
              "Name: close, dtype: float64"
            ]
          },
          "metadata": {},
          "execution_count": 42
        }
      ]
    },
    {
      "cell_type": "code",
      "source": [
        "## Analysing the Stock Price of Google\n",
        "import matplotlib.pyplot as plt\n",
        "plt.figure(figsize = (12,8))\n",
        "plt.plot(new_df)"
      ],
      "metadata": {
        "colab": {
          "base_uri": "https://localhost:8080/",
          "height": 693
        },
        "id": "2rGO-3uxqt3U",
        "outputId": "09f34c0e-b7f1-4186-f0e0-3bdac24bed18"
      },
      "execution_count": 44,
      "outputs": [
        {
          "output_type": "execute_result",
          "data": {
            "text/plain": [
              "[<matplotlib.lines.Line2D at 0x7d6e2565f9a0>]"
            ]
          },
          "metadata": {},
          "execution_count": 44
        },
        {
          "output_type": "display_data",
          "data": {
            "text/plain": [
              "<Figure size 1200x800 with 1 Axes>"
            ],
            "image/png": "[encoded data removed]"
          },
          "metadata": {}
        }
      ]
    },
    {
      "cell_type": "code",
      "source": [
        "# Scaling the data\n",
        "import numpy as np\n",
        "from sklearn.preprocessing import MinMaxScaler\n",
        "\n",
        "scaler = MinMaxScaler(feature_range=(0,1))\n",
        "\n",
        "new_df = scaler.fit_transform(np.array(new_df).reshape(-1,1))"
      ],
      "metadata": {
        "id": "bklYiNfAq3PG"
      },
      "execution_count": 45,
      "outputs": []
    },
    {
      "cell_type": "code",
      "source": [
        "new_df"
      ],
      "metadata": {
        "colab": {
          "base_uri": "https://localhost:8080/"
        },
        "id": "F3JNgd3_r2sW",
        "outputId": "9b5ce3ad-1b4b-46cb-a61a-ff3289f36bde"
      },
      "execution_count": 53,
      "outputs": [
        {
          "output_type": "execute_result",
          "data": {
            "text/plain": [
              "array([[0.37197169],\n",
              "       [0.37442935],\n",
              "       [0.38036755],\n",
              "       ...,\n",
              "       [0.01828829],\n",
              "       [0.0187654 ],\n",
              "       [0.01852513]])"
            ]
          },
          "metadata": {},
          "execution_count": 53
        }
      ]
    },
    {
      "cell_type": "code",
      "source": [
        "## Making the train and test data for our model\n",
        "train_size = int(len(new_df)*0.70)\n",
        "test_size = len(new_df) - train_size\n",
        "train_data,test_data = new_df[:train_size,:],new_df[train_size:len(new_df),:]"
      ],
      "metadata": {
        "id": "skr2dqPwr-sP"
      },
      "execution_count": 51,
      "outputs": []
    },
    {
      "cell_type": "code",
      "source": [
        "train_data.shape"
      ],
      "metadata": {
        "colab": {
          "base_uri": "https://localhost:8080/"
        },
        "id": "qOpclQURuqtx",
        "outputId": "2a8ec56c-8a60-40ef-89c7-d4f97d2ef9e4"
      },
      "execution_count": 54,
      "outputs": [
        {
          "output_type": "execute_result",
          "data": {
            "text/plain": [
              "(879, 1)"
            ]
          },
          "metadata": {},
          "execution_count": 54
        }
      ]
    },
    {
      "cell_type": "code",
      "source": [
        "test_data.shape"
      ],
      "metadata": {
        "colab": {
          "base_uri": "https://localhost:8080/"
        },
        "id": "sRWaNahtu1IR",
        "outputId": "df79b12f-63a2-4280-9bb8-1ebab44a2704"
      },
      "execution_count": 56,
      "outputs": [
        {
          "output_type": "execute_result",
          "data": {
            "text/plain": [
              "(378, 1)"
            ]
          },
          "metadata": {},
          "execution_count": 56
        }
      ]
    },
    {
      "cell_type": "code",
      "source": [
        "new_df.shape"
      ],
      "metadata": {
        "colab": {
          "base_uri": "https://localhost:8080/"
        },
        "id": "TJ4KFt9_u_Pc",
        "outputId": "ee5aa196-0d8a-4c03-968a-0875b13dd0cd"
      },
      "execution_count": 57,
      "outputs": [
        {
          "output_type": "execute_result",
          "data": {
            "text/plain": [
              "(1257, 1)"
            ]
          },
          "metadata": {},
          "execution_count": 57
        }
      ]
    },
    {
      "cell_type": "code",
      "source": [
        "## Creating a fuction which can create consumable data in a time-series format for our model\n",
        "def create_dataset(data,timestep):\n",
        "\n",
        "  x,y = [],[]\n",
        "  for i in range(len(data)-timestep-1):\n",
        "    a = data[i:(i+timestep),0]\n",
        "    x.append(a)\n",
        "    y.append(data[i+timestep,0])\n",
        "\n",
        "  return np.array(x),np.array(y)"
      ],
      "metadata": {
        "id": "WwxQXKUmvKDu"
      },
      "execution_count": 60,
      "outputs": []
    },
    {
      "cell_type": "code",
      "source": [
        "x_train,y_train = create_dataset(train_data,100)\n",
        "x_test,y_test = create_dataset(test_data,100)"
      ],
      "metadata": {
        "id": "A6-KUuFex93w"
      },
      "execution_count": 61,
      "outputs": []
    },
    {
      "cell_type": "code",
      "source": [
        "x_train.shape"
      ],
      "metadata": {
        "colab": {
          "base_uri": "https://localhost:8080/"
        },
        "id": "_GfBYJQUyOIz",
        "outputId": "3bda4243-2593-43a5-97f3-383c603fcd18"
      },
      "execution_count": 63,
      "outputs": [
        {
          "output_type": "execute_result",
          "data": {
            "text/plain": [
              "(778, 100)"
            ]
          },
          "metadata": {},
          "execution_count": 63
        }
      ]
    },
    {
      "cell_type": "code",
      "source": [
        "y_train.shape"
      ],
      "metadata": {
        "colab": {
          "base_uri": "https://localhost:8080/"
        },
        "id": "Cb3--GRYyVOE",
        "outputId": "efda4bdb-e6cd-4d80-9d68-7cce42ff2132"
      },
      "execution_count": 65,
      "outputs": [
        {
          "output_type": "execute_result",
          "data": {
            "text/plain": [
              "(778,)"
            ]
          },
          "metadata": {},
          "execution_count": 65
        }
      ]
    },
    {
      "cell_type": "code",
      "source": [
        "## Reshape the data\n",
        "x_train = x_train.reshape(x_train.shape[0],x_train.shape[1],1)\n",
        "x_test = x_test.reshape(x_test.shape[0],x_test.shape[1],1)"
      ],
      "metadata": {
        "id": "jrOwEmIJyb2a"
      },
      "execution_count": 66,
      "outputs": []
    },
    {
      "cell_type": "code",
      "source": [
        "x_train.shape"
      ],
      "metadata": {
        "colab": {
          "base_uri": "https://localhost:8080/"
        },
        "id": "2mvUBBBkzIv0",
        "outputId": "0698ee63-a9e0-4e66-f28c-47d46638ffa3"
      },
      "execution_count": 68,
      "outputs": [
        {
          "output_type": "execute_result",
          "data": {
            "text/plain": [
              "(778, 100, 1)"
            ]
          },
          "metadata": {},
          "execution_count": 68
        }
      ]
    },
    {
      "cell_type": "code",
      "source": [
        "## Building the LSTM model\n",
        "\n",
        "import tensorflow as tf\n",
        "from tensorflow.keras.models import Sequential\n",
        "from tensorflow.keras.layers import LSTM,Dense\n",
        "\n",
        "model = Sequential()\n",
        "\n",
        "model.add(LSTM(50,return_sequences = True,input_shape= (100,1)))\n",
        "model.add(LSTM(50,return_sequences = True))\n",
        "model.add(LSTM(50))\n",
        "model.add(Dense(1))\n",
        "\n",
        "model.compile(loss = 'mse',optimizer = 'adam')"
      ],
      "metadata": {
        "id": "bGzHXYlLzJ7K"
      },
      "execution_count": 82,
      "outputs": []
    },
    {
      "cell_type": "code",
      "source": [
        "model.summary()"
      ],
      "metadata": {
        "colab": {
          "base_uri": "https://localhost:8080/"
        },
        "id": "eGc-FPJX0U_h",
        "outputId": "22839cf4-7e3c-4358-8b1e-1f96344260fe"
      },
      "execution_count": 83,
      "outputs": [
        {
          "output_type": "stream",
          "name": "stdout",
          "text": [
            "Model: \"sequential_8\"\n",
            "_________________________________________________________________\n",
            " Layer (type)                Output Shape              Param #   \n",
            "=================================================================\n",
            " lstm_16 (LSTM)              (None, 100, 50)           10400     \n",
            "                                                                 \n",
            " lstm_17 (LSTM)              (None, 100, 50)           20200     \n",
            "                                                                 \n",
            " lstm_18 (LSTM)              (None, 50)                20200     \n",
            "                                                                 \n",
            " dense_4 (Dense)             (None, 1)                 51        \n",
            "                                                                 \n",
            "=================================================================\n",
            "Total params: 50851 (198.64 KB)\n",
            "Trainable params: 50851 (198.64 KB)\n",
            "Non-trainable params: 0 (0.00 Byte)\n",
            "_________________________________________________________________\n"
          ]
        }
      ]
    },
    {
      "cell_type": "code",
      "source": [
        "## Training our model\n",
        "model.fit(x_train,y_train,validation_data=(x_test,y_test),epochs = 10)"
      ],
      "metadata": {
        "colab": {
          "base_uri": "https://localhost:8080/"
        },
        "id": "uKYXLX5H1Uu5",
        "outputId": "385234ae-2edf-4d91-b6cd-6cc8cd0827e6"
      },
      "execution_count": 84,
      "outputs": [
        {
          "output_type": "stream",
          "name": "stdout",
          "text": [
            "Epoch 1/10\n",
            "25/25 [==============================] - 13s 256ms/step - loss: 0.0537 - val_loss: 0.0265\n",
            "Epoch 2/10\n",
            "25/25 [==============================] - 4s 167ms/step - loss: 0.0037 - val_loss: 0.0060\n",
            "Epoch 3/10\n",
            "25/25 [==============================] - 4s 167ms/step - loss: 0.0011 - val_loss: 0.0018\n",
            "Epoch 4/10\n",
            "25/25 [==============================] - 5s 222ms/step - loss: 9.0712e-04 - val_loss: 0.0023\n",
            "Epoch 5/10\n",
            "25/25 [==============================] - 4s 170ms/step - loss: 8.5555e-04 - val_loss: 0.0022\n",
            "Epoch 6/10\n",
            "25/25 [==============================] - 4s 170ms/step - loss: 8.2435e-04 - val_loss: 0.0018\n",
            "Epoch 7/10\n",
            "25/25 [==============================] - 5s 217ms/step - loss: 9.1197e-04 - val_loss: 0.0019\n",
            "Epoch 8/10\n",
            "25/25 [==============================] - 4s 168ms/step - loss: 8.1153e-04 - val_loss: 0.0016\n",
            "Epoch 9/10\n",
            "25/25 [==============================] - 4s 172ms/step - loss: 8.1827e-04 - val_loss: 0.0014\n",
            "Epoch 10/10\n",
            "25/25 [==============================] - 5s 200ms/step - loss: 8.1296e-04 - val_loss: 0.0012\n"
          ]
        },
        {
          "output_type": "execute_result",
          "data": {
            "text/plain": [
              "<keras.src.callbacks.History at 0x7d6dd136c250>"
            ]
          },
          "metadata": {},
          "execution_count": 84
        }
      ]
    },
    {
      "cell_type": "code",
      "source": [
        "## Predicting with respect to train and test data\n",
        "train_predict = model.predict(x_train)\n",
        "test_predict = model.predict(x_test)"
      ],
      "metadata": {
        "colab": {
          "base_uri": "https://localhost:8080/"
        },
        "id": "2D2l2dnx1ppH",
        "outputId": "90f415dc-06ac-480a-afe3-6123e456a7a1"
      },
      "execution_count": 85,
      "outputs": [
        {
          "output_type": "stream",
          "name": "stdout",
          "text": [
            "25/25 [==============================] - 2s 41ms/step\n",
            "9/9 [==============================] - 0s 43ms/step\n"
          ]
        }
      ]
    },
    {
      "cell_type": "code",
      "source": [
        "y_train.shape"
      ],
      "metadata": {
        "colab": {
          "base_uri": "https://localhost:8080/"
        },
        "id": "AK7-uGrC3PGY",
        "outputId": "1c4ba2cd-3f66-411d-b41f-ffeaad86ea3f"
      },
      "execution_count": 88,
      "outputs": [
        {
          "output_type": "execute_result",
          "data": {
            "text/plain": [
              "(778,)"
            ]
          },
          "metadata": {},
          "execution_count": 88
        }
      ]
    },
    {
      "cell_type": "code",
      "source": [
        "## Calculating the error of our model\n",
        "from sklearn.metrics import mean_squared_error\n",
        "import math\n",
        "\n",
        "math.sqrt(mean_squared_error(y_train,train_predict))"
      ],
      "metadata": {
        "colab": {
          "base_uri": "https://localhost:8080/"
        },
        "id": "Bg1wi0ys3c1_",
        "outputId": "c62d5ff8-5105-4c2f-ce11-26fe79c51c2b"
      },
      "execution_count": 95,
      "outputs": [
        {
          "output_type": "execute_result",
          "data": {
            "text/plain": [
              "0.028661067322584676"
            ]
          },
          "metadata": {},
          "execution_count": 95
        }
      ]
    },
    {
      "cell_type": "code",
      "source": [
        "math.sqrt(mean_squared_error(y_test,test_predict))"
      ],
      "metadata": {
        "colab": {
          "base_uri": "https://localhost:8080/"
        },
        "id": "BeBW3R823nmh",
        "outputId": "f42e59b2-5492-4689-eada-c91b59895439"
      },
      "execution_count": 96,
      "outputs": [
        {
          "output_type": "execute_result",
          "data": {
            "text/plain": [
              "0.034715570531054264"
            ]
          },
          "metadata": {},
          "execution_count": 96
        }
      ]
    },
    {
      "cell_type": "code",
      "source": [
        "# Visulaising the predicted output with the actual output\n",
        "\n",
        "look_back = 100\n",
        "\n",
        "trainpredictplot = np.empty_like(new_df)\n",
        "trainpredictplot[:,:] = np.nan\n",
        "trainpredictplot[look_back:len(train_predict)+look_back,:] = train_predict\n",
        "\n",
        "testpredictplot = np.empty_like(new_df)\n",
        "testpredictplot[:,:] = np.nan\n",
        "testpredictplot[len(train_predict)+(look_back*2\n",
        ")+1:len(new_df)-1,:] = test_predict\n",
        "\n",
        "\n",
        "plt.figure(figsize = (12,8))\n",
        "plt.plot(new_df)\n",
        "plt.plot(trainpredictplot)\n",
        "plt.plot(testpredictplot)\n",
        "plt.show()\n"
      ],
      "metadata": {
        "colab": {
          "base_uri": "https://localhost:8080/",
          "height": 676
        },
        "id": "MmUp1qc_35Vo",
        "outputId": "3ff667ac-6f06-4505-c6b8-7806c3b30842"
      },
      "execution_count": 102,
      "outputs": [
        {
          "output_type": "display_data",
          "data": {
            "text/plain": [
              "<Figure size 1200x800 with 1 Axes>"
            ],
            "image/png": "[encoded data removed]"
          },
          "metadata": {}
        }
      ]
    },
    {
      "cell_type": "code",
      "source": [
        "len(test_data)"
      ],
      "metadata": {
        "colab": {
          "base_uri": "https://localhost:8080/"
        },
        "id": "aU98edl1IH97",
        "outputId": "e77c9d48-2162-4310-8e90-11a5ed48e282"
      },
      "execution_count": 103,
      "outputs": [
        {
          "output_type": "execute_result",
          "data": {
            "text/plain": [
              "378"
            ]
          },
          "metadata": {},
          "execution_count": 103
        }
      ]
    },
    {
      "cell_type": "code",
      "source": [
        "x_input = test_data[278:].reshape(1,-1)\n",
        "x_input.shape"
      ],
      "metadata": {
        "colab": {
          "base_uri": "https://localhost:8080/"
        },
        "id": "Xr_G6m6cKwYP",
        "outputId": "4bcce0ab-497a-42df-a532-69d6a3ed5c7d"
      },
      "execution_count": 104,
      "outputs": [
        {
          "output_type": "execute_result",
          "data": {
            "text/plain": [
              "(1, 100)"
            ]
          },
          "metadata": {},
          "execution_count": 104
        }
      ]
    },
    {
      "cell_type": "code",
      "source": [
        "temp_input = x_input[0].tolist()"
      ],
      "metadata": {
        "id": "HWWi3yqXK7PS"
      },
      "execution_count": 110,
      "outputs": []
    },
    {
      "cell_type": "code",
      "source": [
        "## Predicting the output for next 30 days\n",
        "list_out = []\n",
        "n_steps = 100\n",
        "i = 0\n",
        "\n",
        "while i<30:\n",
        "\n",
        "  if len(temp_input) > 100:\n",
        "    x_input = np.array(temp_input[1:])\n",
        "\n",
        "    x_input = x_input.reshape(1,-1)\n",
        "    x_input = x_input.reshape((1,n_steps,1))\n",
        "\n",
        "    yhat = model.predict(x_input,verbose = 0)\n",
        "\n",
        "    temp_input.extend(yhat[0].tolist())\n",
        "    temp_input = temp_input[1:]\n",
        "\n",
        "    list_out.extend(yhat.tolist())\n",
        "    i = i+1\n",
        "\n",
        "\n",
        "  else:\n",
        "    x_input = x_input.reshape((1,n_steps,1))\n",
        "    yhat = model.predict(x_input,verbose = 0)\n",
        "\n",
        "    temp_input.extend(yhat[0].tolist())\n",
        "\n",
        "    list_out.extend(yhat.tolist())\n",
        "    i = i+1"
      ],
      "metadata": {
        "id": "vy-v6NY2K9ai"
      },
      "execution_count": 112,
      "outputs": []
    },
    {
      "cell_type": "code",
      "source": [
        "day_new = np.arange(1,101)\n",
        "day_pred = np.arange(101,131)"
      ],
      "metadata": {
        "id": "tN68QESsLTjN"
      },
      "execution_count": 113,
      "outputs": []
    },
    {
      "cell_type": "code",
      "source": [
        "len(new_df)"
      ],
      "metadata": {
        "colab": {
          "base_uri": "https://localhost:8080/"
        },
        "id": "kLvQOFOQOzKI",
        "outputId": "070e5315-583d-488f-8698-8d01e55b4290"
      },
      "execution_count": 114,
      "outputs": [
        {
          "output_type": "execute_result",
          "data": {
            "text/plain": [
              "1257"
            ]
          },
          "metadata": {},
          "execution_count": 114
        }
      ]
    },
    {
      "cell_type": "code",
      "source": [
        "## Ploting the next 30 days stock prediction\n",
        "plt.plot(day_new,new_df[1157:])\n",
        "plt.plot(day_pred,list_out)"
      ],
      "metadata": {
        "colab": {
          "base_uri": "https://localhost:8080/",
          "height": 447
        },
        "id": "EEhjckvTPF9K",
        "outputId": "0afb2e54-fe85-4a5d-f246-56fb635b3df6"
      },
      "execution_count": 115,
      "outputs": [
        {
          "output_type": "execute_result",
          "data": {
            "text/plain": [
              "[<matplotlib.lines.Line2D at 0x7d6dc39b0e20>]"
            ]
          },
          "metadata": {},
          "execution_count": 115
        },
        {
          "output_type": "display_data",
          "data": {
            "text/plain": [
              "<Figure size 640x480 with 1 Axes>"
            ],
            "image/png": "[encoded data removed]"
          },
          "metadata": {}
        }
      ]
    },
    {
      "cell_type": "code",
      "source": [
        "curr_df  = new_df.tolist()\n",
        "curr_df.extend(list_out)"
      ],
      "metadata": {
        "id": "GnMa4poqPb9E"
      },
      "execution_count": 116,
      "outputs": []
    },
    {
      "cell_type": "code",
      "source": [
        "## Plotting the next 30 days stock price in a smooth curve\n",
        "plt.plot(scaler.inverse_transform(curr_df[1000:]))"
      ],
      "metadata": {
        "colab": {
          "base_uri": "https://localhost:8080/",
          "height": 448
        },
        "id": "jk--_CRuPwmO",
        "outputId": "15719959-d542-43a9-86db-ff1bda5e6ff6"
      },
      "execution_count": 123,
      "outputs": [
        {
          "output_type": "execute_result",
          "data": {
            "text/plain": [
              "[<matplotlib.lines.Line2D at 0x7d6dd1c0b250>]"
            ]
          },
          "metadata": {},
          "execution_count": 123
        },
        {
          "output_type": "display_data",
          "data": {
            "text/plain": [
              "<Figure size 640x480 with 1 Axes>"
            ],
            "image/png": "[encoded data removed]"
          },
          "metadata": {}
        }
      ]
    },
    {
      "cell_type": "code",
      "source": [],
      "metadata": {
        "id": "X5UNfkCuP2B2"
      },
      "execution_count": null,
      "outputs": []
    }
  ]
}